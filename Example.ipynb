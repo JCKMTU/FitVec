{
 "cells": [
  {
   "cell_type": "code",
   "execution_count": 1,
   "metadata": {
    "collapsed": false
   },
   "outputs": [],
   "source": [
    "import numpy as np\n",
    "import math\n",
    "import FitVec as fv"
   ]
  },
  {
   "cell_type": "code",
   "execution_count": 42,
   "metadata": {
    "collapsed": false
   },
   "outputs": [
    {
     "name": "stdout",
     "output_type": "stream",
     "text": [
      "Random theta: \n",
      "[[ 0.02]\n",
      " [ 0.01]\n",
      " [ 0.01]\n",
      " [ 0.01]]\n",
      "\n",
      "Cost: 2.00215947064\n",
      "\n",
      "Optimal theta: \n",
      "[[ 0.]\n",
      " [ 1.]\n",
      " [ 1.]\n",
      " [ 0.]]\n",
      "\n",
      "Cost: 3.46877223605e-08\n",
      "\n"
     ]
    }
   ],
   "source": [
    "X = np.array([[0,0,1],[0,1,1],[1,0,1],[1,1,1]])\n",
    "y = np.array([[0, 1, 1, 0]]).T\n",
    "init_theta = 10*(np.random.random((13,1)) - 0.5) \n",
    "\n",
    "def runForward(X, theta):\n",
    "\ttheta1 = np.array(theta[:9]).reshape(3,3)\n",
    "\ttheta2 = np.array(theta[9:]).reshape(4,1)\n",
    "\th1 = sigmoid(np.dot(X, theta1)) \n",
    "\th1_bias = np.insert(h1, 3, [1,1,1,1], axis=1)\n",
    "\toutput = sigmoid(np.dot(h1_bias, theta2)) \n",
    "\treturn output\n",
    "\t#4x3 * 3x1 = 4x1\n",
    "def costFunction(X, y, theta):\n",
    "\tm = float(len(X))\n",
    "\thThetaX = np.array(runForward(X, theta))\n",
    "\treturn np.sum(np.abs(y - hThetaX))\n",
    "def sigmoid(x): return 1 / (1 + np.exp(- x))\n",
    "\n",
    "def demoRun():\n",
    "\tprint(\"Random theta: \\n%s\\n\" % (np.round(runForward(X, init_theta), 2)))\n",
    "\tprint(\"Cost: %s\\n\" % (costFunction(X,y, init_theta)))\n",
    "\toptimal_theta = fv.evolveParams(costFunction, 13, (100,0.01,50), X, y)\n",
    "\tprint(\"Optimal theta: \\n%s\\n\" % (np.round(runForward(X, optimal_theta.reshape(13,1)), 2)))\n",
    "\tprint(\"Cost: %s\\n\" % (costFunction(X, y, optimal_theta.reshape(13,1))))\n",
    "demoRun()"
   ]
  },
  {
   "cell_type": "code",
   "execution_count": 82,
   "metadata": {
    "collapsed": true
   },
   "outputs": [],
   "source": [
    "def recombineVectors(arr):\n",
    "    #arr is a 2-dimensional array of vectors\n",
    "    #Steps:\n",
    "    # 1. Choose first pair of vectors: indices 0, 1\n",
    "    # 2. Pick random \"cut point\" along length of vector\n",
    "    # 3. Swap corresponding vector subsets; move on to second pair of vectors, indices: 2,3\n",
    "    resultVec = np.zeros(arr.shape, dtype=\"int64\")\n",
    "    arrLen = int((arr.shape[0]/2))\n",
    "    for i in range(arrLen):\n",
    "        x = 2*i;\n",
    "        a = arr[x]\n",
    "        b = arr[x+1]\n",
    "        cutPt = np.random.randint(len(a))\n",
    "        new_a = np.concatenate((a[0:cutPt], b[cutPt:]))\n",
    "        new_b = np.concatenate((b[0:cutPt], a[cutPt:]))\n",
    "        resultVec[x] = new_a\n",
    "        resultVec[x+1] = new_b\n",
    "    return resultVec"
   ]
  },
  {
   "cell_type": "code",
   "execution_count": 83,
   "metadata": {
    "collapsed": false
   },
   "outputs": [
    {
     "data": {
      "text/plain": [
       "array([[ 1,  3,  4,  5],\n",
       "       [ 6,  7,  8,  9],\n",
       "       [10, 11, 12, 13],\n",
       "       [14, 15, 16, 17]])"
      ]
     },
     "execution_count": 83,
     "metadata": {},
     "output_type": "execute_result"
    }
   ],
   "source": [
    "a = np.array([[1,3,4,5],[6,7,8,9],[10,11,12,13],[14,15,16,17]])\n",
    "a"
   ]
  },
  {
   "cell_type": "code",
   "execution_count": 84,
   "metadata": {
    "collapsed": false
   },
   "outputs": [
    {
     "data": {
      "text/plain": [
       "dtype('int64')"
      ]
     },
     "execution_count": 84,
     "metadata": {},
     "output_type": "execute_result"
    }
   ],
   "source": [
    "recombineVectors(a).dtype"
   ]
  },
  {
   "cell_type": "code",
   "execution_count": 7,
   "metadata": {
    "collapsed": true
   },
   "outputs": [],
   "source": [
    "a = np.zeros(a.shape)"
   ]
  },
  {
   "cell_type": "code",
   "execution_count": 20,
   "metadata": {
    "collapsed": false
   },
   "outputs": [],
   "source": [
    "b = a = np.array([[1,3,4,5],[6,7,8,9],[10,11,12,13]])"
   ]
  },
  {
   "cell_type": "code",
   "execution_count": 80,
   "metadata": {
    "collapsed": false
   },
   "outputs": [
    {
     "data": {
      "text/plain": [
       "dtype('int64')"
      ]
     },
     "execution_count": 80,
     "metadata": {},
     "output_type": "execute_result"
    }
   ],
   "source": [
    "(np.random.permutation(a)).dtype"
   ]
  },
  {
   "cell_type": "code",
   "execution_count": null,
   "metadata": {
    "collapsed": true
   },
   "outputs": [],
   "source": []
  }
 ],
 "metadata": {
  "kernelspec": {
   "display_name": "Python 3",
   "language": "python",
   "name": "python3"
  },
  "language_info": {
   "codemirror_mode": {
    "name": "ipython",
    "version": 3
   },
   "file_extension": ".py",
   "mimetype": "text/x-python",
   "name": "python",
   "nbconvert_exporter": "python",
   "pygments_lexer": "ipython3",
   "version": "3.5.0"
  }
 },
 "nbformat": 4,
 "nbformat_minor": 0
}
