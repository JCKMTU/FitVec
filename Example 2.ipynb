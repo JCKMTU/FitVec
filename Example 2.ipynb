{
 "cells": [
  {
   "cell_type": "code",
   "execution_count": 30,
   "metadata": {
    "collapsed": false
   },
   "outputs": [],
   "source": [
    "import random as rn, numpy as np, math\n",
    "def evolveParams(costFunction, vecLength, params=(100,0.01,100), *args):\n",
    "\n",
    "\tdef recombineVectors(arr):\n",
    "\t\t#arr is a 2-dimensional array of vectors\n",
    "\t\t#Steps:\n",
    "\t\t# 1. Choose first pair of vectors: indices 0, 1\n",
    "\t\t# 2. Pick random \"cut point\" along length of vector\n",
    "\t\t# 3. Swap corresponding vector subsets; move on to second pair of vectors, indices: 2,3\n",
    "\t\tresultVec = np.zeros(arr.shape)\n",
    "\t\tarrLen = int((arr.shape[0]/2))\n",
    "\t\tfor i in range(arrLen):\n",
    "\t\t\tx = 2*i;\n",
    "\t\t\ta = arr[x]\n",
    "\t\t\tb = arr[x+1]\n",
    "\t\t\tcutPt = np.random.randint(len(a))\n",
    "\t\t\tnew_a = np.concatenate((a[0:cutPt], b[cutPt:]))\n",
    "\t\t\tnew_b = np.concatenate((b[0:cutPt], a[cutPt:]))\n",
    "\t\t\tresultVec[x] = new_a\n",
    "\t\t\tresultVec[x+1] = new_b\n",
    "\t\treturn resultVec\n",
    "\n",
    "\tinitPop, mutRate, numGen = params\n",
    "\tsolLen = vecLength\n",
    "\tnumWin = int(0.10 * initPop)\n",
    "\tstep = 0.01\n",
    "\tbounds = (initPop * solLen) * step * 2\n",
    "\tcurPop = np.random.choice(np.arange(-1*bounds,bounds,step=0.01),size=(initPop, solLen),replace=False)\n",
    "\tnextPop = np.zeros((curPop.shape[0], curPop.shape[1]))\n",
    "\tfitVec = np.zeros((initPop, 2))\n",
    "\tfor i in range(numGen):\n",
    "\t\tfitVec = np.array([np.array([x, np.sum(costFunction(*args, curPop[x].T))]) for x in range(initPop)])\n",
    "\t\t#print(np.sum(fitVec[:,1]))\n",
    "\t\twinners = np.zeros((numWin, solLen))\n",
    "\t\tfor n in range(len(winners)):\n",
    "\t\t\tselected = np.random.choice(range(len(fitVec)), numWin/2, replace=False)\n",
    "\t\t\twnr = np.argmin(fitVec[selected,1])\n",
    "\t\t\twinners[n] = curPop[int(fitVec[selected[wnr]][0])]\n",
    "\t\tnextPop[:len(winners)] = winners\n",
    "\t\tduplicWin = np.zeros((((initPop - len(winners))),winners.shape[1]))\n",
    "\t\tfor x in range(winners.shape[1]):\n",
    "\t\t\tnumDups = ((initPop - len(winners))/len(winners))\n",
    "\t\t\tduplicWin[:, x] = np.repeat(winners[:, x], numDups, axis=0)\n",
    "\t\t\t#duplicWin[:, x] = np.random.permutation(duplicWin[:, x])\n",
    "\t\tduplicWin = recombineVectors(duplicWin)\n",
    "\t\tnextPop[len(winners):] = np.matrix(duplicWin)\n",
    "\t\tnum_mut_els = nextPop.size * mutRate\n",
    "\t\tmutated_elements = np.random.random_integers(0, (nextPop.size-1), size=(num_mut_els,))\n",
    "\t\tfor z in mutated_elements:\n",
    "\t\t\tnextPop.flat[z] = nextPop.flat[z] * np.float(np.random.normal(0,2,1))\n",
    "\t\tcurPop = nextPop\n",
    "\tbest_soln = curPop[np.argmin(fitVec[:,1])]\n",
    "\t#print(\"Best Sol'n:\\n%s\\nCost:%s\" % (best_soln,np.sum(costFunction(*args, best_soln.T))))\n",
    "\n",
    "\treturn best_soln\n"
   ]
  },
  {
   "cell_type": "code",
   "execution_count": 34,
   "metadata": {
    "collapsed": false
   },
   "outputs": [
    {
     "name": "stdout",
     "output_type": "stream",
     "text": [
      "Random theta: \n",
      "[[ 0.]\n",
      " [ 0.]\n",
      " [ 0.]\n",
      " [ 0.]]\n",
      "\n",
      "Cost: 1.99993642903\n",
      "\n",
      "Optimal theta: \n",
      "[[ 0.]\n",
      " [ 1.]\n",
      " [ 1.]\n",
      " [ 0.]]\n",
      "\n",
      "Cost: 4.82525402298e-09\n",
      "\n"
     ]
    },
    {
     "name": "stderr",
     "output_type": "stream",
     "text": [
      "/Users/brandonbrown/anaconda/lib/python3.5/site-packages/ipykernel/__main__.py:36: DeprecationWarning: using a non-integer number instead of an integer will result in an error in the future\n",
      "/Users/brandonbrown/anaconda/lib/python3.5/site-packages/ipykernel/__main__.py:48: DeprecationWarning: using a non-integer number instead of an integer will result in an error in the future\n"
     ]
    }
   ],
   "source": [
    "X = np.array([[0,0,1],[0,1,1],[1,0,1],[1,1,1]])\n",
    "y = np.array([[0, 1, 1, 0]]).T\n",
    "init_theta = 10*(np.random.random((13,1)) - 0.5) \n",
    "\n",
    "def runForward(X, theta):\n",
    "\ttheta1 = np.array(theta[:9]).reshape(3,3)\n",
    "\ttheta2 = np.array(theta[9:]).reshape(4,1)\n",
    "\th1 = sigmoid(np.dot(X, theta1)) \n",
    "\th1_bias = np.insert(h1, 3, [1,1,1,1], axis=1)\n",
    "\toutput = sigmoid(np.dot(h1_bias, theta2)) \n",
    "\treturn output\n",
    "\t#4x3 * 3x1 = 4x1\n",
    "def costFunction(X, y, theta):\n",
    "\tm = float(len(X))\n",
    "\thThetaX = np.array(runForward(X, theta))\n",
    "\treturn np.sum(np.abs(y - hThetaX))\n",
    "def sigmoid(x): return 1 / (1 + np.exp(- x))\n",
    "\n",
    "def demoRun():\n",
    "\tprint(\"Random theta: \\n%s\\n\" % (np.round(runForward(X, init_theta), 2)))\n",
    "\tprint(\"Cost: %s\\n\" % (costFunction(X,y, init_theta)))\n",
    "\toptimal_theta = evolveParams(costFunction, 13, (100,0.01,50), X, y)\n",
    "\tprint(\"Optimal theta: \\n%s\\n\" % (np.round(runForward(X, optimal_theta.reshape(13,1)), 2)))\n",
    "\tprint(\"Cost: %s\\n\" % (costFunction(X, y, optimal_theta.reshape(13,1))))\n",
    "demoRun()"
   ]
  },
  {
   "cell_type": "code",
   "execution_count": null,
   "metadata": {
    "collapsed": true
   },
   "outputs": [],
   "source": []
  }
 ],
 "metadata": {
  "kernelspec": {
   "display_name": "Python 3",
   "language": "python",
   "name": "python3"
  },
  "language_info": {
   "codemirror_mode": {
    "name": "ipython",
    "version": 3
   },
   "file_extension": ".py",
   "mimetype": "text/x-python",
   "name": "python",
   "nbconvert_exporter": "python",
   "pygments_lexer": "ipython3",
   "version": "3.5.0"
  }
 },
 "nbformat": 4,
 "nbformat_minor": 0
}
